{
 "cells": [
  {
   "cell_type": "markdown",
   "metadata": {},
   "source": [
    "# Deskripsi tugas\n",
    "\n",
    "Perusahaan taksi bernama Sweet Lift telah mengumpulkan data historis tentang pesanan taksi di bandara. Untuk menarik lebih banyak pengemudi pada jam sibuk, perlu memprediksi jumlah pesanan taksi untuk satu jam berikutnya. Buat model untuk prediksi seperti itu.\n",
    "\n",
    "Metrik RMSE pada *test set* tidak boleh lebih dari 48.\n",
    "\n",
    "## Instruksi tugas\n",
    "\n",
    "1. Unduh data dan lakukan *resampling* dalam satu jam.\n",
    "2. Analisis datanya.\n",
    "3.  Latih model yang berbeda dengan hiperparameter yang berbeda pula. Sampel tes harus 10% dari *dataset* awal.\n",
    "4. Uji data menggunakan sampel tes dan berikan kesimpulan.\n",
    "\n",
    "## Deskripsi data\n",
    "\n",
    "Data tersimpan di file `taxi.csv`. Jumlah pesanan di kolom'*num_orders*'."
   ]
  },
  {
   "cell_type": "code",
   "execution_count": 1,
   "metadata": {},
   "outputs": [],
   "source": [
    "import pandas as pd\n",
    "import numpy as np\n",
    "\n",
    "import matplotlib.pyplot as plt\n",
    "import seaborn as sns"
   ]
  },
  {
   "cell_type": "markdown",
   "metadata": {},
   "source": [
    "## Persiapan"
   ]
  },
  {
   "cell_type": "code",
   "execution_count": 2,
   "metadata": {},
   "outputs": [
    {
     "data": {
      "text/html": [
       "<div>\n",
       "<style scoped>\n",
       "    .dataframe tbody tr th:only-of-type {\n",
       "        vertical-align: middle;\n",
       "    }\n",
       "\n",
       "    .dataframe tbody tr th {\n",
       "        vertical-align: top;\n",
       "    }\n",
       "\n",
       "    .dataframe thead th {\n",
       "        text-align: right;\n",
       "    }\n",
       "</style>\n",
       "<table border=\"1\" class=\"dataframe\">\n",
       "  <thead>\n",
       "    <tr style=\"text-align: right;\">\n",
       "      <th></th>\n",
       "      <th>datetime</th>\n",
       "      <th>num_orders</th>\n",
       "    </tr>\n",
       "  </thead>\n",
       "  <tbody>\n",
       "    <tr>\n",
       "      <th>0</th>\n",
       "      <td>2018-03-01 00:00:00</td>\n",
       "      <td>9</td>\n",
       "    </tr>\n",
       "    <tr>\n",
       "      <th>1</th>\n",
       "      <td>2018-03-01 00:10:00</td>\n",
       "      <td>14</td>\n",
       "    </tr>\n",
       "    <tr>\n",
       "      <th>2</th>\n",
       "      <td>2018-03-01 00:20:00</td>\n",
       "      <td>28</td>\n",
       "    </tr>\n",
       "    <tr>\n",
       "      <th>3</th>\n",
       "      <td>2018-03-01 00:30:00</td>\n",
       "      <td>20</td>\n",
       "    </tr>\n",
       "    <tr>\n",
       "      <th>4</th>\n",
       "      <td>2018-03-01 00:40:00</td>\n",
       "      <td>32</td>\n",
       "    </tr>\n",
       "  </tbody>\n",
       "</table>\n",
       "</div>"
      ],
      "text/plain": [
       "              datetime  num_orders\n",
       "0  2018-03-01 00:00:00           9\n",
       "1  2018-03-01 00:10:00          14\n",
       "2  2018-03-01 00:20:00          28\n",
       "3  2018-03-01 00:30:00          20\n",
       "4  2018-03-01 00:40:00          32"
      ]
     },
     "execution_count": 2,
     "metadata": {},
     "output_type": "execute_result"
    }
   ],
   "source": [
    "data = pd.read_csv('/datasets/taxi.csv')\n",
    "data.head()"
   ]
  },
  {
   "cell_type": "code",
   "execution_count": 3,
   "metadata": {},
   "outputs": [
    {
     "name": "stdout",
     "output_type": "stream",
     "text": [
      "<class 'pandas.core.frame.DataFrame'>\n",
      "RangeIndex: 26496 entries, 0 to 26495\n",
      "Data columns (total 2 columns):\n",
      " #   Column      Non-Null Count  Dtype \n",
      "---  ------      --------------  ----- \n",
      " 0   datetime    26496 non-null  object\n",
      " 1   num_orders  26496 non-null  int64 \n",
      "dtypes: int64(1), object(1)\n",
      "memory usage: 414.1+ KB\n"
     ]
    }
   ],
   "source": [
    "data.info()"
   ]
  },
  {
   "cell_type": "code",
   "execution_count": 4,
   "metadata": {},
   "outputs": [
    {
     "data": {
      "text/plain": [
       "(26496, 2)"
      ]
     },
     "execution_count": 4,
     "metadata": {},
     "output_type": "execute_result"
    }
   ],
   "source": [
    "data.shape"
   ]
  },
  {
   "cell_type": "markdown",
   "metadata": {},
   "source": [
    "Karena data yang dimiliki adalah data datetime, lebih baik data yang ada dirubah ke index dan tipe datanya dirubah ke datetime."
   ]
  },
  {
   "cell_type": "code",
   "execution_count": 5,
   "metadata": {},
   "outputs": [
    {
     "data": {
      "text/html": [
       "<div>\n",
       "<style scoped>\n",
       "    .dataframe tbody tr th:only-of-type {\n",
       "        vertical-align: middle;\n",
       "    }\n",
       "\n",
       "    .dataframe tbody tr th {\n",
       "        vertical-align: top;\n",
       "    }\n",
       "\n",
       "    .dataframe thead th {\n",
       "        text-align: right;\n",
       "    }\n",
       "</style>\n",
       "<table border=\"1\" class=\"dataframe\">\n",
       "  <thead>\n",
       "    <tr style=\"text-align: right;\">\n",
       "      <th></th>\n",
       "      <th>num_orders</th>\n",
       "    </tr>\n",
       "    <tr>\n",
       "      <th>datetime</th>\n",
       "      <th></th>\n",
       "    </tr>\n",
       "  </thead>\n",
       "  <tbody>\n",
       "    <tr>\n",
       "      <th>2018-03-01 00:00:00</th>\n",
       "      <td>9</td>\n",
       "    </tr>\n",
       "    <tr>\n",
       "      <th>2018-03-01 00:10:00</th>\n",
       "      <td>14</td>\n",
       "    </tr>\n",
       "    <tr>\n",
       "      <th>2018-03-01 00:20:00</th>\n",
       "      <td>28</td>\n",
       "    </tr>\n",
       "    <tr>\n",
       "      <th>2018-03-01 00:30:00</th>\n",
       "      <td>20</td>\n",
       "    </tr>\n",
       "    <tr>\n",
       "      <th>2018-03-01 00:40:00</th>\n",
       "      <td>32</td>\n",
       "    </tr>\n",
       "  </tbody>\n",
       "</table>\n",
       "</div>"
      ],
      "text/plain": [
       "                     num_orders\n",
       "datetime                       \n",
       "2018-03-01 00:00:00           9\n",
       "2018-03-01 00:10:00          14\n",
       "2018-03-01 00:20:00          28\n",
       "2018-03-01 00:30:00          20\n",
       "2018-03-01 00:40:00          32"
      ]
     },
     "execution_count": 5,
     "metadata": {},
     "output_type": "execute_result"
    }
   ],
   "source": [
    "data = pd.read_csv('/datasets/taxi.csv', index_col=[0], parse_dates=[0])\n",
    "data.head()"
   ]
  },
  {
   "cell_type": "code",
   "execution_count": 6,
   "metadata": {},
   "outputs": [
    {
     "name": "stdout",
     "output_type": "stream",
     "text": [
      "<class 'pandas.core.frame.DataFrame'>\n",
      "DatetimeIndex: 26496 entries, 2018-03-01 00:00:00 to 2018-08-31 23:50:00\n",
      "Data columns (total 1 columns):\n",
      " #   Column      Non-Null Count  Dtype\n",
      "---  ------      --------------  -----\n",
      " 0   num_orders  26496 non-null  int64\n",
      "dtypes: int64(1)\n",
      "memory usage: 414.0 KB\n"
     ]
    }
   ],
   "source": [
    "data.info()"
   ]
  },
  {
   "cell_type": "code",
   "execution_count": 7,
   "metadata": {},
   "outputs": [
    {
     "data": {
      "text/plain": [
       "<AxesSubplot:xlabel='datetime'>"
      ]
     },
     "execution_count": 7,
     "metadata": {},
     "output_type": "execute_result"
    },
    {
     "data": {
      "image/png": "[encoded data removed]",
      "text/plain": [
       "<Figure size 432x288 with 1 Axes>"
      ]
     },
     "metadata": {
      "needs_background": "light"
     },
     "output_type": "display_data"
    }
   ],
   "source": [
    "data.plot()"
   ]
  },
  {
   "cell_type": "code",
   "execution_count": 8,
   "metadata": {},
   "outputs": [
    {
     "data": {
      "text/html": [
       "<div>\n",
       "<style scoped>\n",
       "    .dataframe tbody tr th:only-of-type {\n",
       "        vertical-align: middle;\n",
       "    }\n",
       "\n",
       "    .dataframe tbody tr th {\n",
       "        vertical-align: top;\n",
       "    }\n",
       "\n",
       "    .dataframe thead th {\n",
       "        text-align: right;\n",
       "    }\n",
       "</style>\n",
       "<table border=\"1\" class=\"dataframe\">\n",
       "  <thead>\n",
       "    <tr style=\"text-align: right;\">\n",
       "      <th></th>\n",
       "      <th>num_orders</th>\n",
       "    </tr>\n",
       "    <tr>\n",
       "      <th>datetime</th>\n",
       "      <th></th>\n",
       "    </tr>\n",
       "  </thead>\n",
       "  <tbody>\n",
       "    <tr>\n",
       "      <th>2018-05-20 07:00:00</th>\n",
       "      <td>14</td>\n",
       "    </tr>\n",
       "    <tr>\n",
       "      <th>2018-07-11 02:00:00</th>\n",
       "      <td>152</td>\n",
       "    </tr>\n",
       "    <tr>\n",
       "      <th>2018-04-26 00:00:00</th>\n",
       "      <td>159</td>\n",
       "    </tr>\n",
       "    <tr>\n",
       "      <th>2018-08-11 07:00:00</th>\n",
       "      <td>33</td>\n",
       "    </tr>\n",
       "    <tr>\n",
       "      <th>2018-05-07 17:00:00</th>\n",
       "      <td>70</td>\n",
       "    </tr>\n",
       "    <tr>\n",
       "      <th>2018-05-11 00:00:00</th>\n",
       "      <td>107</td>\n",
       "    </tr>\n",
       "    <tr>\n",
       "      <th>2018-05-27 18:00:00</th>\n",
       "      <td>37</td>\n",
       "    </tr>\n",
       "    <tr>\n",
       "      <th>2018-05-11 06:00:00</th>\n",
       "      <td>52</td>\n",
       "    </tr>\n",
       "    <tr>\n",
       "      <th>2018-06-20 16:00:00</th>\n",
       "      <td>107</td>\n",
       "    </tr>\n",
       "    <tr>\n",
       "      <th>2018-06-28 19:00:00</th>\n",
       "      <td>65</td>\n",
       "    </tr>\n",
       "  </tbody>\n",
       "</table>\n",
       "</div>"
      ],
      "text/plain": [
       "                     num_orders\n",
       "datetime                       \n",
       "2018-05-20 07:00:00          14\n",
       "2018-07-11 02:00:00         152\n",
       "2018-04-26 00:00:00         159\n",
       "2018-08-11 07:00:00          33\n",
       "2018-05-07 17:00:00          70\n",
       "2018-05-11 00:00:00         107\n",
       "2018-05-27 18:00:00          37\n",
       "2018-05-11 06:00:00          52\n",
       "2018-06-20 16:00:00         107\n",
       "2018-06-28 19:00:00          65"
      ]
     },
     "execution_count": 8,
     "metadata": {},
     "output_type": "execute_result"
    }
   ],
   "source": [
    "# resampling data kedalam 1 jam \n",
    "\n",
    "data = data.resample('1H').sum()\n",
    "data.sample(10)"
   ]
  },
  {
   "cell_type": "code",
   "execution_count": 9,
   "metadata": {},
   "outputs": [
    {
     "data": {
      "image/png": "[encoded data removed]",
      "text/plain": [
       "<Figure size 432x288 with 1 Axes>"
      ]
     },
     "metadata": {
      "needs_background": "light"
     },
     "output_type": "display_data"
    }
   ],
   "source": [
    "data.plot();"
   ]
  },
  {
   "cell_type": "code",
   "execution_count": 10,
   "metadata": {},
   "outputs": [
    {
     "data": {
      "text/plain": [
       "(4416, 1)"
      ]
     },
     "execution_count": 10,
     "metadata": {},
     "output_type": "execute_result"
    }
   ],
   "source": [
    "data.shape"
   ]
  },
  {
   "cell_type": "markdown",
   "metadata": {},
   "source": [
    "**Catatan**\n",
    "\n",
    "Dari langkah yang telah dilakukan diatas, ada beberapa catatan, berikut adalah catatanya:\n",
    "1. Data yang dimiliki berupa data waktu dana data berapa banyak panngilan taksi setiap waktunya.\n",
    "2. Tipe data pada kolom datetime masih berupa object, maka dari itu tipe data dirubah ke datetime dan dijadikan index.\n",
    "3. Data yang ada dilakukan resampling ke perjam, agar dapat mudah menemukan berapa panggilan setiap jamnya.\n",
    "4. Ukuran data sebelum resampling adalah 26496 baris dan 2 kolom. Setelah dilakukan resampling ukuran data menjadi 4416 baris dan 1 kolom. Lebih sederhana bukan."
   ]
  },
  {
   "cell_type": "markdown",
   "metadata": {},
   "source": [
    "## Analisis"
   ]
  },
  {
   "cell_type": "code",
   "execution_count": 11,
   "metadata": {},
   "outputs": [],
   "source": [
    "from statsmodels.tsa.seasonal import seasonal_decompose"
   ]
  },
  {
   "cell_type": "code",
   "execution_count": 12,
   "metadata": {},
   "outputs": [
    {
     "data": {
      "text/plain": [
       "<statsmodels.tsa.seasonal.DecomposeResult at 0x7fda5e7bfe50>"
      ]
     },
     "execution_count": 12,
     "metadata": {},
     "output_type": "execute_result"
    }
   ],
   "source": [
    "decomposed = seasonal_decompose(data)\n",
    "decomposed"
   ]
  },
  {
   "cell_type": "code",
   "execution_count": 13,
   "metadata": {},
   "outputs": [
    {
     "data": {
      "image/png": "[encoded data removed]",
      "text/plain": [
       "<Figure size 432x576 with 3 Axes>"
      ]
     },
     "metadata": {
      "needs_background": "light"
     },
     "output_type": "display_data"
    }
   ],
   "source": [
    "plt.figure(figsize=(6, 8))\n",
    "plt.subplot(311)\n",
    "decomposed.trend.plot(ax=plt.gca())\n",
    "plt.title('Trend')\n",
    "plt.subplot(312)\n",
    "decomposed.seasonal.plot(ax=plt.gca())\n",
    "plt.title('Seasonality')\n",
    "plt.subplot(313)\n",
    "decomposed.resid.plot(ax=plt.gca())\n",
    "plt.title('Residual')\n",
    "plt.tight_layout()"
   ]
  },
  {
   "cell_type": "code",
   "execution_count": 14,
   "metadata": {},
   "outputs": [
    {
     "data": {
      "image/png": "[encoded data removed]",
      "text/plain": [
       "<Figure size 432x576 with 3 Axes>"
      ]
     },
     "metadata": {
      "needs_background": "light"
     },
     "output_type": "display_data"
    }
   ],
   "source": [
    "plt.figure(figsize=(6, 8))\n",
    "plt.subplot(311)\n",
    "decomposed.trend.plot(ax=plt.gca())\n",
    "plt.title('Trend')\n",
    "plt.subplot(312)\n",
    "decomposed.seasonal['1 Jun 2018'].plot(ax=plt.gca())\n",
    "plt.title('Seasonality')\n",
    "plt.subplot(313)\n",
    "decomposed.resid.plot(ax=plt.gca())\n",
    "plt.title('Residual')\n",
    "plt.tight_layout()"
   ]
  },
  {
   "cell_type": "markdown",
   "metadata": {},
   "source": [
    "**Catatan**\n",
    "\n",
    "Dari grafik trend yang ditampilkan, bahwa dari bulan maret hingga bulan agustus grafiknya mengalami kenaikan yang cukup jelas terlihat dan itu menandakan bahwa disetiap bulannya mengalami kenaikan dari segi panggilan taksi atau pesanan taksi yang ada. Pada grafik musiman, terlihat pada bulan agustus grafik mengalami kenaikan pada jam-jam kerja atau dapat dikatakan bahwa pada pagi hingga siang hari grafik mengalami fluktuasi naik dan turun namun pada jam malam hingga pukul 6 pagi garfik mengalami penurunan yang cukup tajam dan itu cukup masuk akal mengingat jam-jam tersebut bukan jam sibuk."
   ]
  },
  {
   "cell_type": "markdown",
   "metadata": {},
   "source": [
    "## Pelatihan"
   ]
  },
  {
   "cell_type": "markdown",
   "metadata": {},
   "source": [
    "Sebelum melakukan pelatihan, mari lakukan pengoptimalan data dengan menambah beberapa fitur yang dapat memabantu proses pelatihan hingga pengujian."
   ]
  },
  {
   "cell_type": "code",
   "execution_count": 15,
   "metadata": {},
   "outputs": [],
   "source": [
    "def make_features(data, max_lag=4, rolling_mean_size=10):\n",
    "    data['month'] = data.index.month\n",
    "    data['day'] = data.index.day\n",
    "    data['dayofweek'] = data.index.dayofweek\n",
    "    data['hour'] = data.index.hour\n",
    "    \n",
    "    for lag in range(1, max_lag + 1):\n",
    "        data['lag_{}'.format(lag)] = data['num_orders'].shift(lag)\n",
    "\n",
    "    data['rolling_mean'] = (data['num_orders'].shift().rolling(rolling_mean_size).mean())"
   ]
  },
  {
   "cell_type": "code",
   "execution_count": 16,
   "metadata": {},
   "outputs": [
    {
     "name": "stdout",
     "output_type": "stream",
     "text": [
      "(4406, 10)\n"
     ]
    }
   ],
   "source": [
    "make_features(data)\n",
    "data = data.dropna()\n",
    "print(data.shape)"
   ]
  },
  {
   "cell_type": "code",
   "execution_count": 17,
   "metadata": {},
   "outputs": [
    {
     "data": {
      "text/html": [
       "<div>\n",
       "<style scoped>\n",
       "    .dataframe tbody tr th:only-of-type {\n",
       "        vertical-align: middle;\n",
       "    }\n",
       "\n",
       "    .dataframe tbody tr th {\n",
       "        vertical-align: top;\n",
       "    }\n",
       "\n",
       "    .dataframe thead th {\n",
       "        text-align: right;\n",
       "    }\n",
       "</style>\n",
       "<table border=\"1\" class=\"dataframe\">\n",
       "  <thead>\n",
       "    <tr style=\"text-align: right;\">\n",
       "      <th></th>\n",
       "      <th>num_orders</th>\n",
       "      <th>month</th>\n",
       "      <th>day</th>\n",
       "      <th>dayofweek</th>\n",
       "      <th>hour</th>\n",
       "      <th>lag_1</th>\n",
       "      <th>lag_2</th>\n",
       "      <th>lag_3</th>\n",
       "      <th>lag_4</th>\n",
       "      <th>rolling_mean</th>\n",
       "    </tr>\n",
       "    <tr>\n",
       "      <th>datetime</th>\n",
       "      <th></th>\n",
       "      <th></th>\n",
       "      <th></th>\n",
       "      <th></th>\n",
       "      <th></th>\n",
       "      <th></th>\n",
       "      <th></th>\n",
       "      <th></th>\n",
       "      <th></th>\n",
       "      <th></th>\n",
       "    </tr>\n",
       "  </thead>\n",
       "  <tbody>\n",
       "    <tr>\n",
       "      <th>2018-03-01 10:00:00</th>\n",
       "      <td>64</td>\n",
       "      <td>3</td>\n",
       "      <td>1</td>\n",
       "      <td>3</td>\n",
       "      <td>10</td>\n",
       "      <td>69.0</td>\n",
       "      <td>34.0</td>\n",
       "      <td>15.0</td>\n",
       "      <td>12.0</td>\n",
       "      <td>52.5</td>\n",
       "    </tr>\n",
       "    <tr>\n",
       "      <th>2018-03-01 11:00:00</th>\n",
       "      <td>96</td>\n",
       "      <td>3</td>\n",
       "      <td>1</td>\n",
       "      <td>3</td>\n",
       "      <td>11</td>\n",
       "      <td>64.0</td>\n",
       "      <td>69.0</td>\n",
       "      <td>34.0</td>\n",
       "      <td>15.0</td>\n",
       "      <td>46.5</td>\n",
       "    </tr>\n",
       "    <tr>\n",
       "      <th>2018-03-01 12:00:00</th>\n",
       "      <td>30</td>\n",
       "      <td>3</td>\n",
       "      <td>1</td>\n",
       "      <td>3</td>\n",
       "      <td>12</td>\n",
       "      <td>96.0</td>\n",
       "      <td>64.0</td>\n",
       "      <td>69.0</td>\n",
       "      <td>34.0</td>\n",
       "      <td>47.6</td>\n",
       "    </tr>\n",
       "    <tr>\n",
       "      <th>2018-03-01 13:00:00</th>\n",
       "      <td>32</td>\n",
       "      <td>3</td>\n",
       "      <td>1</td>\n",
       "      <td>3</td>\n",
       "      <td>13</td>\n",
       "      <td>30.0</td>\n",
       "      <td>96.0</td>\n",
       "      <td>64.0</td>\n",
       "      <td>69.0</td>\n",
       "      <td>43.5</td>\n",
       "    </tr>\n",
       "    <tr>\n",
       "      <th>2018-03-01 14:00:00</th>\n",
       "      <td>48</td>\n",
       "      <td>3</td>\n",
       "      <td>1</td>\n",
       "      <td>3</td>\n",
       "      <td>14</td>\n",
       "      <td>32.0</td>\n",
       "      <td>30.0</td>\n",
       "      <td>96.0</td>\n",
       "      <td>64.0</td>\n",
       "      <td>40.1</td>\n",
       "    </tr>\n",
       "    <tr>\n",
       "      <th>2018-03-01 15:00:00</th>\n",
       "      <td>66</td>\n",
       "      <td>3</td>\n",
       "      <td>1</td>\n",
       "      <td>3</td>\n",
       "      <td>15</td>\n",
       "      <td>48.0</td>\n",
       "      <td>32.0</td>\n",
       "      <td>30.0</td>\n",
       "      <td>96.0</td>\n",
       "      <td>40.6</td>\n",
       "    </tr>\n",
       "    <tr>\n",
       "      <th>2018-03-01 16:00:00</th>\n",
       "      <td>43</td>\n",
       "      <td>3</td>\n",
       "      <td>1</td>\n",
       "      <td>3</td>\n",
       "      <td>16</td>\n",
       "      <td>66.0</td>\n",
       "      <td>48.0</td>\n",
       "      <td>32.0</td>\n",
       "      <td>30.0</td>\n",
       "      <td>46.6</td>\n",
       "    </tr>\n",
       "    <tr>\n",
       "      <th>2018-03-01 17:00:00</th>\n",
       "      <td>44</td>\n",
       "      <td>3</td>\n",
       "      <td>1</td>\n",
       "      <td>3</td>\n",
       "      <td>17</td>\n",
       "      <td>43.0</td>\n",
       "      <td>66.0</td>\n",
       "      <td>48.0</td>\n",
       "      <td>32.0</td>\n",
       "      <td>49.7</td>\n",
       "    </tr>\n",
       "    <tr>\n",
       "      <th>2018-03-01 18:00:00</th>\n",
       "      <td>73</td>\n",
       "      <td>3</td>\n",
       "      <td>1</td>\n",
       "      <td>3</td>\n",
       "      <td>18</td>\n",
       "      <td>44.0</td>\n",
       "      <td>43.0</td>\n",
       "      <td>66.0</td>\n",
       "      <td>48.0</td>\n",
       "      <td>52.6</td>\n",
       "    </tr>\n",
       "    <tr>\n",
       "      <th>2018-03-01 19:00:00</th>\n",
       "      <td>45</td>\n",
       "      <td>3</td>\n",
       "      <td>1</td>\n",
       "      <td>3</td>\n",
       "      <td>19</td>\n",
       "      <td>73.0</td>\n",
       "      <td>44.0</td>\n",
       "      <td>43.0</td>\n",
       "      <td>66.0</td>\n",
       "      <td>56.5</td>\n",
       "    </tr>\n",
       "  </tbody>\n",
       "</table>\n",
       "</div>"
      ],
      "text/plain": [
       "                     num_orders  month  day  dayofweek  hour  lag_1  lag_2  \\\n",
       "datetime                                                                     \n",
       "2018-03-01 10:00:00          64      3    1          3    10   69.0   34.0   \n",
       "2018-03-01 11:00:00          96      3    1          3    11   64.0   69.0   \n",
       "2018-03-01 12:00:00          30      3    1          3    12   96.0   64.0   \n",
       "2018-03-01 13:00:00          32      3    1          3    13   30.0   96.0   \n",
       "2018-03-01 14:00:00          48      3    1          3    14   32.0   30.0   \n",
       "2018-03-01 15:00:00          66      3    1          3    15   48.0   32.0   \n",
       "2018-03-01 16:00:00          43      3    1          3    16   66.0   48.0   \n",
       "2018-03-01 17:00:00          44      3    1          3    17   43.0   66.0   \n",
       "2018-03-01 18:00:00          73      3    1          3    18   44.0   43.0   \n",
       "2018-03-01 19:00:00          45      3    1          3    19   73.0   44.0   \n",
       "\n",
       "                     lag_3  lag_4  rolling_mean  \n",
       "datetime                                         \n",
       "2018-03-01 10:00:00   15.0   12.0          52.5  \n",
       "2018-03-01 11:00:00   34.0   15.0          46.5  \n",
       "2018-03-01 12:00:00   69.0   34.0          47.6  \n",
       "2018-03-01 13:00:00   64.0   69.0          43.5  \n",
       "2018-03-01 14:00:00   96.0   64.0          40.1  \n",
       "2018-03-01 15:00:00   30.0   96.0          40.6  \n",
       "2018-03-01 16:00:00   32.0   30.0          46.6  \n",
       "2018-03-01 17:00:00   48.0   32.0          49.7  \n",
       "2018-03-01 18:00:00   66.0   48.0          52.6  \n",
       "2018-03-01 19:00:00   43.0   66.0          56.5  "
      ]
     },
     "execution_count": 17,
     "metadata": {},
     "output_type": "execute_result"
    }
   ],
   "source": [
    "data.head(10)"
   ]
  },
  {
   "cell_type": "markdown",
   "metadata": {},
   "source": [
    "**Catatan**\n",
    "\n",
    "Data yang ada sudah berhasil ditambahkan beberapa fitur baru untuk menunjang proses pelatihan dan pengujian."
   ]
  },
  {
   "cell_type": "markdown",
   "metadata": {},
   "source": [
    "**Split Data**"
   ]
  },
  {
   "cell_type": "code",
   "execution_count": 18,
   "metadata": {},
   "outputs": [],
   "source": [
    "from sklearn.model_selection import train_test_split"
   ]
  },
  {
   "cell_type": "code",
   "execution_count": 19,
   "metadata": {},
   "outputs": [
    {
     "name": "stdout",
     "output_type": "stream",
     "text": [
      "(3568, 10)\n",
      "(397, 10)\n",
      "(441, 10)\n"
     ]
    }
   ],
   "source": [
    "train_valid, test = train_test_split(data, shuffle=False, test_size=0.1)\n",
    "train, valid = train_test_split(train_valid, shuffle=False, test_size=0.1)\n",
    "\n",
    "print(train.shape)\n",
    "print(valid.shape)\n",
    "print(test.shape)"
   ]
  },
  {
   "cell_type": "code",
   "execution_count": 20,
   "metadata": {},
   "outputs": [
    {
     "name": "stdout",
     "output_type": "stream",
     "text": [
      "train min and max: 2018-03-01 10:00:00 - 2018-07-28 01:00:00\n",
      "valid min and max: 2018-07-28 02:00:00 - 2018-08-13 14:00:00\n",
      "test min and max: 2018-08-13 15:00:00 - 2018-08-31 23:00:00\n"
     ]
    }
   ],
   "source": [
    "print('train min and max:', train.index.min(), '-' , train.index.max())\n",
    "print('valid min and max:', valid.index.min(), '-', valid.index.max())\n",
    "print('test min and max:', test.index.min(), '-', test.index.max())"
   ]
  },
  {
   "cell_type": "code",
   "execution_count": 21,
   "metadata": {},
   "outputs": [],
   "source": [
    "# membuat fitur dan target pada ketiga dataset\n",
    "\n",
    "features_train = train.drop(['num_orders'], axis=1)\n",
    "target_train = train['num_orders']\n",
    "\n",
    "features_valid = valid.drop(['num_orders'], axis=1)\n",
    "target_valid = valid['num_orders']\n",
    "\n",
    "features_test = test.drop(['num_orders'], axis=1)\n",
    "target_test = test['num_orders']"
   ]
  },
  {
   "cell_type": "code",
   "execution_count": 22,
   "metadata": {},
   "outputs": [
    {
     "name": "stdout",
     "output_type": "stream",
     "text": [
      "(3568, 9) (3568,)\n",
      "(397, 9) (397,)\n",
      "(441, 9) (441,)\n"
     ]
    }
   ],
   "source": [
    "print(features_train.shape, target_train.shape)\n",
    "print(features_valid.shape, target_valid.shape)\n",
    "print(features_test.shape, target_test.shape)"
   ]
  },
  {
   "cell_type": "code",
   "execution_count": 23,
   "metadata": {},
   "outputs": [],
   "source": [
    "# membuat fungsi untuk rmse\n",
    "from sklearn.metrics import mean_squared_error\n",
    "\n",
    "def rmse(true, pred):\n",
    "    return mean_squared_error(true, pred)**0.5"
   ]
  },
  {
   "cell_type": "code",
   "execution_count": 24,
   "metadata": {},
   "outputs": [
    {
     "name": "stdout",
     "output_type": "stream",
     "text": [
      "mean value: 139.64172335600907\n",
      "rmse prev: 58.82268986995932\n",
      "rmse mean: 87.35030729608127\n"
     ]
    }
   ],
   "source": [
    "print('mean value:', test['num_orders'].mean())\n",
    "pred_previous = test.shift()\n",
    "pred_previous.iloc[0] = train.iloc[-1]\n",
    "\n",
    "print('rmse prev:', rmse(test['num_orders'], pred_previous['num_orders']))\n",
    "pred_mean = np.ones(test['num_orders'].shape) * train['num_orders'].mean()\n",
    "print('rmse mean:', rmse(test['num_orders'], pred_mean))"
   ]
  },
  {
   "cell_type": "markdown",
   "metadata": {},
   "source": [
    "**1. LinearRegression**"
   ]
  },
  {
   "cell_type": "code",
   "execution_count": 25,
   "metadata": {},
   "outputs": [
    {
     "name": "stdout",
     "output_type": "stream",
     "text": [
      "lr-rmse train: 29.189032950503787\n",
      "lr-rmse valid: 40.53857656513466\n"
     ]
    }
   ],
   "source": [
    "from sklearn.linear_model import LinearRegression\n",
    "\n",
    "lr = LinearRegression()\n",
    "\n",
    "lr.fit(features_train, target_train)\n",
    "\n",
    "pred_train = lr.predict(features_train)\n",
    "pred_valid = lr.predict(features_valid)\n",
    "\n",
    "print('lr-rmse train:', rmse(target_train, pred_train))\n",
    "print('lr-rmse valid:', rmse(target_valid, pred_valid))"
   ]
  },
  {
   "cell_type": "markdown",
   "metadata": {},
   "source": [
    "**2. Random Forest Regressor**"
   ]
  },
  {
   "cell_type": "code",
   "execution_count": 26,
   "metadata": {},
   "outputs": [
    {
     "name": "stdout",
     "output_type": "stream",
     "text": [
      "depth: 2\n",
      "rf-rmse train: 28.566252011563495\n",
      "rf-rmse valid: 47.85897646384376\n",
      "depth: 4\n",
      "rf-rmse train: 24.843819395123813\n",
      "rf-rmse valid: 41.1016150675838\n",
      "depth: 6\n",
      "rf-rmse train: 21.19638422667562\n",
      "rf-rmse valid: 35.51477954148297\n",
      "depth: 8\n",
      "rf-rmse train: 17.63554050736141\n",
      "rf-rmse valid: 33.02483332858689\n",
      "depth: 10\n",
      "rf-rmse train: 14.27292886846983\n",
      "rf-rmse valid: 32.40856327606419\n",
      "depth: 12\n",
      "rf-rmse train: 11.408971062733924\n",
      "rf-rmse valid: 32.0849173558154\n",
      "CPU times: user 6.55 s, sys: 114 ms, total: 6.67 s\n",
      "Wall time: 6.72 s\n"
     ]
    }
   ],
   "source": [
    "%%time\n",
    "\n",
    "from sklearn.ensemble import RandomForestRegressor\n",
    "\n",
    "max_depth = [2, 4, 6, 8, 10, 12]\n",
    "\n",
    "for depth in max_depth:\n",
    "    rf = RandomForestRegressor(max_depth=depth, n_estimators=100)\n",
    "    rf.fit(features_train, target_train)\n",
    "    \n",
    "    pred_train = rf.predict(features_train)\n",
    "    pred_valid = rf.predict(features_valid)\n",
    "    \n",
    "    \n",
    "    print('depth:', depth)\n",
    "    print('rf-rmse train:', rmse(target_train, pred_train))\n",
    "    print('rf-rmse valid:', rmse(target_valid, pred_valid))"
   ]
  },
  {
   "cell_type": "markdown",
   "metadata": {},
   "source": [
    "**3. Decision Tree Regressor**"
   ]
  },
  {
   "cell_type": "code",
   "execution_count": 27,
   "metadata": {},
   "outputs": [
    {
     "name": "stdout",
     "output_type": "stream",
     "text": [
      "depth: 1\n",
      "dtree-rmse train: 32.197381149282414\n",
      "dtree-rmse valid: 51.101770444159214\n",
      "depth: 2\n",
      "dtree-rmse train: 29.40679602046847\n",
      "dtree-rmse valid: 49.14518189970042\n",
      "depth: 4\n",
      "dtree-rmse train: 25.97971679152302\n",
      "dtree-rmse valid: 43.16174960534505\n",
      "depth: 6\n",
      "dtree-rmse train: 22.37932961688169\n",
      "dtree-rmse valid: 37.798431618398986\n",
      "depth: 8\n",
      "dtree-rmse train: 18.412214459165636\n",
      "dtree-rmse valid: 33.82361617475039\n",
      "depth: 10\n",
      "dtree-rmse train: 14.79670502926706\n",
      "dtree-rmse valid: 36.00492692153574\n",
      "CPU times: user 110 ms, sys: 8.16 ms, total: 118 ms\n",
      "Wall time: 127 ms\n"
     ]
    }
   ],
   "source": [
    "%%time\n",
    "\n",
    "from sklearn.tree import DecisionTreeRegressor\n",
    "\n",
    "max_depth = [1, 2, 4, 6, 8, 10]\n",
    "\n",
    "for depth in max_depth:\n",
    "    dtree = DecisionTreeRegressor(max_depth=depth)\n",
    "    dtree.fit(features_train, target_train)\n",
    "    \n",
    "    pred_train = dtree.predict(features_train)\n",
    "    pred_valid = dtree.predict(features_valid)\n",
    "    \n",
    "    print('depth:', depth)\n",
    "    print('dtree-rmse train:', rmse(target_train, pred_train))\n",
    "    print('dtree-rmse valid:', rmse(target_valid, pred_valid))\n",
    "    "
   ]
  },
  {
   "cell_type": "markdown",
   "metadata": {},
   "source": [
    "**4. LGBMRegressor**"
   ]
  },
  {
   "cell_type": "code",
   "execution_count": 28,
   "metadata": {
    "scrolled": true
   },
   "outputs": [
    {
     "name": "stdout",
     "output_type": "stream",
     "text": [
      "[1]\tvalid_0's rmse: 57.2639\n",
      "[2]\tvalid_0's rmse: 56.7064\n",
      "[3]\tvalid_0's rmse: 56.1298\n",
      "[4]\tvalid_0's rmse: 55.5829\n",
      "[5]\tvalid_0's rmse: 55.0435\n",
      "[6]\tvalid_0's rmse: 54.5197\n",
      "[7]\tvalid_0's rmse: 53.9929\n",
      "[8]\tvalid_0's rmse: 53.51\n",
      "[9]\tvalid_0's rmse: 53.0407\n",
      "[10]\tvalid_0's rmse: 52.5864\n",
      "[11]\tvalid_0's rmse: 52.1281\n",
      "[12]\tvalid_0's rmse: 51.668\n",
      "[13]\tvalid_0's rmse: 51.2297\n",
      "[14]\tvalid_0's rmse: 50.7866\n",
      "[15]\tvalid_0's rmse: 50.3713\n",
      "[16]\tvalid_0's rmse: 49.9744\n",
      "[17]\tvalid_0's rmse: 49.557\n",
      "[18]\tvalid_0's rmse: 49.1552\n",
      "[19]\tvalid_0's rmse: 48.7643\n",
      "[20]\tvalid_0's rmse: 48.394\n",
      "[21]\tvalid_0's rmse: 48.0329\n",
      "[22]\tvalid_0's rmse: 47.6832\n",
      "[23]\tvalid_0's rmse: 47.3318\n",
      "[24]\tvalid_0's rmse: 47.0128\n",
      "[25]\tvalid_0's rmse: 46.7101\n",
      "[26]\tvalid_0's rmse: 46.3896\n",
      "[27]\tvalid_0's rmse: 46.0539\n",
      "[28]\tvalid_0's rmse: 45.7437\n",
      "[29]\tvalid_0's rmse: 45.4202\n",
      "[30]\tvalid_0's rmse: 45.1026\n",
      "[31]\tvalid_0's rmse: 44.8234\n",
      "[32]\tvalid_0's rmse: 44.516\n",
      "[33]\tvalid_0's rmse: 44.22\n",
      "[34]\tvalid_0's rmse: 43.9504\n",
      "[35]\tvalid_0's rmse: 43.7075\n",
      "[36]\tvalid_0's rmse: 43.4062\n",
      "[37]\tvalid_0's rmse: 43.1618\n",
      "[38]\tvalid_0's rmse: 42.8762\n",
      "[39]\tvalid_0's rmse: 42.6126\n",
      "[40]\tvalid_0's rmse: 42.3954\n",
      "[41]\tvalid_0's rmse: 42.2012\n",
      "[42]\tvalid_0's rmse: 41.9381\n",
      "[43]\tvalid_0's rmse: 41.7245\n",
      "[44]\tvalid_0's rmse: 41.5266\n",
      "[45]\tvalid_0's rmse: 41.3523\n",
      "[46]\tvalid_0's rmse: 41.1829\n",
      "[47]\tvalid_0's rmse: 40.9898\n",
      "[48]\tvalid_0's rmse: 40.7857\n",
      "[49]\tvalid_0's rmse: 40.607\n",
      "[50]\tvalid_0's rmse: 40.4512\n",
      "[51]\tvalid_0's rmse: 40.2648\n",
      "[52]\tvalid_0's rmse: 40.0943\n",
      "[53]\tvalid_0's rmse: 39.9279\n",
      "[54]\tvalid_0's rmse: 39.7671\n",
      "[55]\tvalid_0's rmse: 39.5945\n",
      "[56]\tvalid_0's rmse: 39.4452\n",
      "[57]\tvalid_0's rmse: 39.3179\n",
      "[58]\tvalid_0's rmse: 39.1922\n",
      "[59]\tvalid_0's rmse: 39.0638\n",
      "[60]\tvalid_0's rmse: 38.9201\n",
      "[61]\tvalid_0's rmse: 38.8239\n",
      "[62]\tvalid_0's rmse: 38.6985\n",
      "[63]\tvalid_0's rmse: 38.607\n",
      "[64]\tvalid_0's rmse: 38.4368\n",
      "[65]\tvalid_0's rmse: 38.3381\n",
      "[66]\tvalid_0's rmse: 38.239\n",
      "[67]\tvalid_0's rmse: 38.1171\n",
      "[68]\tvalid_0's rmse: 37.9485\n",
      "[69]\tvalid_0's rmse: 37.8578\n",
      "[70]\tvalid_0's rmse: 37.7679\n",
      "[71]\tvalid_0's rmse: 37.6807\n",
      "[72]\tvalid_0's rmse: 37.591\n",
      "[73]\tvalid_0's rmse: 37.4716\n",
      "[74]\tvalid_0's rmse: 37.3923\n",
      "[75]\tvalid_0's rmse: 37.3081\n",
      "[76]\tvalid_0's rmse: 37.1916\n",
      "[77]\tvalid_0's rmse: 37.06\n",
      "[78]\tvalid_0's rmse: 36.9743\n",
      "[79]\tvalid_0's rmse: 36.8999\n",
      "[80]\tvalid_0's rmse: 36.7759\n",
      "[81]\tvalid_0's rmse: 36.6681\n",
      "[82]\tvalid_0's rmse: 36.5523\n",
      "[83]\tvalid_0's rmse: 36.4142\n",
      "[84]\tvalid_0's rmse: 36.3055\n",
      "[85]\tvalid_0's rmse: 36.2236\n",
      "[86]\tvalid_0's rmse: 36.1092\n",
      "[87]\tvalid_0's rmse: 35.9997\n",
      "[88]\tvalid_0's rmse: 35.8938\n",
      "[89]\tvalid_0's rmse: 35.7826\n",
      "[90]\tvalid_0's rmse: 35.6782\n",
      "[91]\tvalid_0's rmse: 35.5989\n",
      "[92]\tvalid_0's rmse: 35.5001\n",
      "[93]\tvalid_0's rmse: 35.4395\n",
      "[94]\tvalid_0's rmse: 35.3665\n",
      "[95]\tvalid_0's rmse: 35.3\n",
      "[96]\tvalid_0's rmse: 35.2123\n",
      "[97]\tvalid_0's rmse: 35.1501\n",
      "[98]\tvalid_0's rmse: 35.0781\n",
      "[99]\tvalid_0's rmse: 35.0286\n",
      "[100]\tvalid_0's rmse: 34.9815\n",
      "lgbm-rmse train: 20.240774679414994\n",
      "lgbm-rmse valid: 34.981473604068704\n",
      "CPU times: user 649 ms, sys: 22.2 ms, total: 671 ms\n",
      "Wall time: 681 ms\n"
     ]
    }
   ],
   "source": [
    "%%time\n",
    "\n",
    "from lightgbm import LGBMRegressor\n",
    "\n",
    "lgbm = LGBMRegressor(learning_rate=0.02, n_estimators=100, objective='rmse')\n",
    "lgbm.fit(features_train, target_train, \n",
    "        eval_set=(features_valid, target_valid))\n",
    "\n",
    "pred_train = lgbm.predict(features_train)\n",
    "pred_valid = lgbm.predict(features_valid)\n",
    "\n",
    "print('lgbm-rmse train:', rmse(target_train, pred_train))\n",
    "print('lgbm-rmse valid:', rmse(target_valid, pred_valid))"
   ]
  },
  {
   "cell_type": "markdown",
   "metadata": {},
   "source": [
    "**5. CatBoostRegressor**"
   ]
  },
  {
   "cell_type": "code",
   "execution_count": 29,
   "metadata": {
    "scrolled": true
   },
   "outputs": [
    {
     "name": "stdout",
     "output_type": "stream",
     "text": [
      "Learning rate set to 0.234046\n",
      "0:\tlearn: 32.8572601\ttotal: 51ms\tremaining: 7.61s\n",
      "10:\tlearn: 22.5354050\ttotal: 74.8ms\tremaining: 945ms\n",
      "20:\tlearn: 21.1083596\ttotal: 95.2ms\tremaining: 585ms\n",
      "30:\tlearn: 19.9366579\ttotal: 119ms\tremaining: 455ms\n",
      "40:\tlearn: 19.1255679\ttotal: 142ms\tremaining: 378ms\n",
      "50:\tlearn: 18.4219278\ttotal: 165ms\tremaining: 320ms\n",
      "60:\tlearn: 17.8449850\ttotal: 187ms\tremaining: 273ms\n",
      "70:\tlearn: 17.4016017\ttotal: 210ms\tremaining: 234ms\n",
      "80:\tlearn: 16.9296442\ttotal: 233ms\tremaining: 199ms\n",
      "90:\tlearn: 16.5131137\ttotal: 261ms\tremaining: 169ms\n",
      "100:\tlearn: 16.0748939\ttotal: 284ms\tremaining: 138ms\n",
      "110:\tlearn: 15.6022140\ttotal: 307ms\tremaining: 108ms\n",
      "120:\tlearn: 15.2692033\ttotal: 331ms\tremaining: 79.2ms\n",
      "130:\tlearn: 14.9064948\ttotal: 354ms\tremaining: 51.3ms\n",
      "140:\tlearn: 14.4722475\ttotal: 378ms\tremaining: 24.2ms\n",
      "149:\tlearn: 14.2233099\ttotal: 400ms\tremaining: 0us\n",
      "catboost-rmse train: 14.223309867837282\n",
      "catboost-rmse valid: 32.46793303374948\n",
      "CPU times: user 390 ms, sys: 15.4 ms, total: 405 ms\n",
      "Wall time: 594 ms\n"
     ]
    }
   ],
   "source": [
    "%%time\n",
    "\n",
    "from catboost import CatBoostRegressor\n",
    "\n",
    "catboost = CatBoostRegressor(loss_function='RMSE', iterations=150, random_seed=12345)\n",
    "catboost.fit(features_train, target_train, verbose=10)\n",
    "\n",
    "pred_train = catboost.predict(features_train)\n",
    "pred_valid = catboost.predict(features_valid)\n",
    "\n",
    "print('catboost-rmse train:', rmse(target_train, pred_train))\n",
    "print('catboost-rmse valid:', rmse(target_valid, pred_valid))"
   ]
  },
  {
   "cell_type": "markdown",
   "metadata": {},
   "source": [
    "**Catatan**\n",
    "\n",
    "Dari hasil pelatihan yang telah dilakukan, berikut adalah beberapa catatanya:\n",
    "1. Pada Linear Regression didapat:\n",
    "    - lr-rmse train: 29.189032950503787\n",
    "    - lr-rmse valid: 40.53857656513466\n",
    "\n",
    "2. Pada Random Forest, nilai dengan rmse terbaik adalah:\n",
    "    - max_depth: 12\n",
    "        - rf-rmse train: 11.396990275039148\n",
    "        - rf-rmse valid: 32.162405139072064\n",
    "\n",
    "3. Pada Decision Tree, nilai dengan rmse terbaik adalah:\n",
    "    - max_depth: 8\n",
    "        - dtree-rmse train: 18.412214459165636\n",
    "        - dtree-rmse valid: 33.79002629639206\n",
    "4. Pada Lgbm didapat:\n",
    "    - lgbm-rmse train: 20.240774679414994\n",
    "    - lgbm-rmse valid: 34.981473604068704\n",
    "\n",
    "5. Pada catboost didapat:\n",
    "    - catboost-rmse train: 14.223309867837282\n",
    "    - catboost-rmse valid: 32.46793303374948"
   ]
  },
  {
   "cell_type": "markdown",
   "metadata": {},
   "source": [
    "## Pengujian"
   ]
  },
  {
   "cell_type": "markdown",
   "metadata": {},
   "source": [
    "Pengujian data menggunakan test sample dengan ukuran 10% dari data."
   ]
  },
  {
   "cell_type": "code",
   "execution_count": 30,
   "metadata": {},
   "outputs": [],
   "source": [
    "features_train1 = train_valid.drop(['num_orders'], axis=1)\n",
    "target_train1 = train_valid['num_orders']"
   ]
  },
  {
   "cell_type": "code",
   "execution_count": 41,
   "metadata": {},
   "outputs": [
    {
     "name": "stdout",
     "output_type": "stream",
     "text": [
      "lr-rmse test: 53.17801688053662\n",
      "CPU times: user 8.53 ms, sys: 4.06 ms, total: 12.6 ms\n",
      "Wall time: 7.5 ms\n"
     ]
    }
   ],
   "source": [
    "%%time\n",
    "\n",
    "lr = LinearRegression()\n",
    "lr.fit(features_train1, target_train1)\n",
    "\n",
    "pred_test = lr.predict(features_test)\n",
    "\n",
    "print('lr-rmse test:', rmse(target_test, pred_test))\n"
   ]
  },
  {
   "cell_type": "code",
   "execution_count": 42,
   "metadata": {},
   "outputs": [
    {
     "name": "stdout",
     "output_type": "stream",
     "text": [
      "rf-rmse train: 46.320548534841706\n",
      "CPU times: user 1.84 s, sys: 3.45 ms, total: 1.85 s\n",
      "Wall time: 1.84 s\n"
     ]
    }
   ],
   "source": [
    "%%time\n",
    "\n",
    "rf = RandomForestRegressor(max_depth=12, n_estimators=100)\n",
    "rf.fit(features_train1, target_train1)\n",
    "\n",
    "pred_test = rf.predict(features_test)    \n",
    "\n",
    "print('rf-rmse train:', rmse(target_test, pred_test))\n"
   ]
  },
  {
   "cell_type": "code",
   "execution_count": 43,
   "metadata": {},
   "outputs": [
    {
     "name": "stdout",
     "output_type": "stream",
     "text": [
      "dtree-rmse train: 56.097306244394375\n",
      "CPU times: user 21.4 ms, sys: 3.83 ms, total: 25.2 ms\n",
      "Wall time: 23.4 ms\n"
     ]
    }
   ],
   "source": [
    "%%time\n",
    "\n",
    "dtree = DecisionTreeRegressor(max_depth=8)\n",
    "dtree.fit(features_train1, target_train1)\n",
    "    \n",
    "pred_test = dtree.predict(features_test)\n",
    "    \n",
    "print('dtree-rmse train:', rmse(target_test, pred_test))\n"
   ]
  },
  {
   "cell_type": "code",
   "execution_count": 44,
   "metadata": {
    "scrolled": true
   },
   "outputs": [
    {
     "name": "stdout",
     "output_type": "stream",
     "text": [
      "[1]\tvalid_0's rmse: 83.9298\n",
      "[2]\tvalid_0's rmse: 83.0992\n",
      "[3]\tvalid_0's rmse: 82.2841\n",
      "[4]\tvalid_0's rmse: 81.5325\n",
      "[5]\tvalid_0's rmse: 80.7983\n",
      "[6]\tvalid_0's rmse: 80.0278\n",
      "[7]\tvalid_0's rmse: 79.3522\n",
      "[8]\tvalid_0's rmse: 78.5886\n",
      "[9]\tvalid_0's rmse: 77.8271\n",
      "[10]\tvalid_0's rmse: 77.1771\n",
      "[11]\tvalid_0's rmse: 76.4336\n",
      "[12]\tvalid_0's rmse: 75.84\n",
      "[13]\tvalid_0's rmse: 75.2447\n",
      "[14]\tvalid_0's rmse: 74.7736\n",
      "[15]\tvalid_0's rmse: 74.2304\n",
      "[16]\tvalid_0's rmse: 73.7748\n",
      "[17]\tvalid_0's rmse: 73.2811\n",
      "[18]\tvalid_0's rmse: 72.794\n",
      "[19]\tvalid_0's rmse: 72.2137\n",
      "[20]\tvalid_0's rmse: 71.7344\n",
      "[21]\tvalid_0's rmse: 71.232\n",
      "[22]\tvalid_0's rmse: 70.745\n",
      "[23]\tvalid_0's rmse: 70.3271\n",
      "[24]\tvalid_0's rmse: 69.806\n",
      "[25]\tvalid_0's rmse: 69.4062\n",
      "[26]\tvalid_0's rmse: 68.9639\n",
      "[27]\tvalid_0's rmse: 68.4676\n",
      "[28]\tvalid_0's rmse: 68.0267\n",
      "[29]\tvalid_0's rmse: 67.5603\n",
      "[30]\tvalid_0's rmse: 67.2202\n",
      "[31]\tvalid_0's rmse: 66.8189\n",
      "[32]\tvalid_0's rmse: 66.3719\n",
      "[33]\tvalid_0's rmse: 65.9565\n",
      "[34]\tvalid_0's rmse: 65.5299\n",
      "[35]\tvalid_0's rmse: 65.2018\n",
      "[36]\tvalid_0's rmse: 64.7996\n",
      "[37]\tvalid_0's rmse: 64.4443\n",
      "[38]\tvalid_0's rmse: 64.085\n",
      "[39]\tvalid_0's rmse: 63.746\n",
      "[40]\tvalid_0's rmse: 63.4715\n",
      "[41]\tvalid_0's rmse: 63.1979\n",
      "[42]\tvalid_0's rmse: 62.8872\n",
      "[43]\tvalid_0's rmse: 62.5733\n",
      "[44]\tvalid_0's rmse: 62.2929\n",
      "[45]\tvalid_0's rmse: 62.033\n",
      "[46]\tvalid_0's rmse: 61.6665\n",
      "[47]\tvalid_0's rmse: 61.3879\n",
      "[48]\tvalid_0's rmse: 61.1552\n",
      "[49]\tvalid_0's rmse: 60.9557\n",
      "[50]\tvalid_0's rmse: 60.7455\n",
      "[51]\tvalid_0's rmse: 60.4893\n",
      "[52]\tvalid_0's rmse: 60.2945\n",
      "[53]\tvalid_0's rmse: 60.0796\n",
      "[54]\tvalid_0's rmse: 59.8661\n",
      "[55]\tvalid_0's rmse: 59.6684\n",
      "[56]\tvalid_0's rmse: 59.469\n",
      "[57]\tvalid_0's rmse: 59.2685\n",
      "[58]\tvalid_0's rmse: 59.0629\n",
      "[59]\tvalid_0's rmse: 58.7935\n",
      "[60]\tvalid_0's rmse: 58.605\n",
      "[61]\tvalid_0's rmse: 58.36\n",
      "[62]\tvalid_0's rmse: 58.1125\n",
      "[63]\tvalid_0's rmse: 57.8553\n",
      "[64]\tvalid_0's rmse: 57.6783\n",
      "[65]\tvalid_0's rmse: 57.4318\n",
      "[66]\tvalid_0's rmse: 57.2826\n",
      "[67]\tvalid_0's rmse: 57.0993\n",
      "[68]\tvalid_0's rmse: 56.8552\n",
      "[69]\tvalid_0's rmse: 56.6312\n",
      "[70]\tvalid_0's rmse: 56.4854\n",
      "[71]\tvalid_0's rmse: 56.3381\n",
      "[72]\tvalid_0's rmse: 56.2036\n",
      "[73]\tvalid_0's rmse: 56.0364\n",
      "[74]\tvalid_0's rmse: 55.8998\n",
      "[75]\tvalid_0's rmse: 55.7602\n",
      "[76]\tvalid_0's rmse: 55.5546\n",
      "[77]\tvalid_0's rmse: 55.425\n",
      "[78]\tvalid_0's rmse: 55.2769\n",
      "[79]\tvalid_0's rmse: 55.1286\n",
      "[80]\tvalid_0's rmse: 54.9932\n",
      "[81]\tvalid_0's rmse: 54.8317\n",
      "[82]\tvalid_0's rmse: 54.7145\n",
      "[83]\tvalid_0's rmse: 54.4911\n",
      "[84]\tvalid_0's rmse: 54.3747\n",
      "[85]\tvalid_0's rmse: 54.2609\n",
      "[86]\tvalid_0's rmse: 54.0931\n",
      "[87]\tvalid_0's rmse: 53.9826\n",
      "[88]\tvalid_0's rmse: 53.833\n",
      "[89]\tvalid_0's rmse: 53.7203\n",
      "[90]\tvalid_0's rmse: 53.5173\n",
      "[91]\tvalid_0's rmse: 53.4292\n",
      "[92]\tvalid_0's rmse: 53.2844\n",
      "[93]\tvalid_0's rmse: 53.1836\n",
      "[94]\tvalid_0's rmse: 53.0773\n",
      "[95]\tvalid_0's rmse: 52.935\n",
      "[96]\tvalid_0's rmse: 52.8561\n",
      "[97]\tvalid_0's rmse: 52.6877\n",
      "[98]\tvalid_0's rmse: 52.6008\n",
      "[99]\tvalid_0's rmse: 52.4481\n",
      "[100]\tvalid_0's rmse: 52.3028\n",
      "lgbm-rmse train: 52.30280965201199\n",
      "CPU times: user 1.93 s, sys: 20.5 ms, total: 1.95 s\n",
      "Wall time: 1.88 s\n"
     ]
    }
   ],
   "source": [
    "%%time\n",
    "\n",
    "lgbm = LGBMRegressor(learning_rate=0.02, n_estimators=100, objective='rmse')\n",
    "lgbm.fit(features_train1, target_train1, \n",
    "        eval_set=(features_test, target_test))\n",
    "\n",
    "pred_test = lgbm.predict(features_test)\n",
    "\n",
    "\n",
    "print('lgbm-rmse train:', rmse(target_test, pred_test))\n"
   ]
  },
  {
   "cell_type": "code",
   "execution_count": 45,
   "metadata": {
    "scrolled": true
   },
   "outputs": [
    {
     "name": "stdout",
     "output_type": "stream",
     "text": [
      "Learning rate set to 0.23798\n",
      "0:\tlearn: 34.4291417\ttotal: 2.78ms\tremaining: 414ms\n",
      "10:\tlearn: 24.0356842\ttotal: 28.4ms\tremaining: 359ms\n",
      "20:\tlearn: 22.5309142\ttotal: 53.4ms\tremaining: 328ms\n",
      "30:\tlearn: 21.2650320\ttotal: 77.7ms\tremaining: 298ms\n",
      "40:\tlearn: 20.3194826\ttotal: 102ms\tremaining: 272ms\n",
      "50:\tlearn: 19.5887833\ttotal: 127ms\tremaining: 246ms\n",
      "60:\tlearn: 18.8771254\ttotal: 152ms\tremaining: 221ms\n",
      "70:\tlearn: 18.1554463\ttotal: 177ms\tremaining: 197ms\n",
      "80:\tlearn: 17.6508898\ttotal: 202ms\tremaining: 172ms\n",
      "90:\tlearn: 17.2290483\ttotal: 230ms\tremaining: 149ms\n",
      "100:\tlearn: 16.8021924\ttotal: 255ms\tremaining: 124ms\n",
      "110:\tlearn: 16.3546127\ttotal: 285ms\tremaining: 100ms\n",
      "120:\tlearn: 16.0062018\ttotal: 314ms\tremaining: 75.2ms\n",
      "130:\tlearn: 15.6718208\ttotal: 339ms\tremaining: 49.1ms\n",
      "140:\tlearn: 15.3650223\ttotal: 363ms\tremaining: 23.2ms\n",
      "149:\tlearn: 15.2088057\ttotal: 386ms\tremaining: 0us\n",
      "catboost-rmse valid: 44.30780376251568\n",
      "CPU times: user 403 ms, sys: 3.79 ms, total: 407 ms\n",
      "Wall time: 493 ms\n"
     ]
    }
   ],
   "source": [
    "%%time\n",
    "\n",
    "catboost = CatBoostRegressor(loss_function='RMSE', iterations=150, random_seed=12345)\n",
    "catboost.fit(features_train1, target_train1, verbose=10)\n",
    "\n",
    "pred_test = catboost.predict(features_test)\n",
    "\n",
    "print('catboost-rmse valid:', rmse(target_test, pred_test))"
   ]
  },
  {
   "cell_type": "markdown",
   "metadata": {},
   "source": [
    "**KEIMPULAN**\n",
    "\n",
    "Ada beberapa kesimpulan yang dapat diambil dari hasil pengujian yang telah dilakukan, diantaranyan:\n",
    "\n",
    "1. Pada model LinearRegression nilai rmse pada pengujian test set adalah 53.17801688053662 dengan waktu prediksi 7.5 ms.\n",
    "2. Pada model RandomForest nilai rmse pada pengujian test set adalah 46.320548534841706 dengan waktu prediksi 1.84 s.\n",
    "3. Pada model DecisionTree nilai rmse pada pengujian test set adalah 56.097306244394375 dengan waktu prediksi 23.4 ms.\n",
    "4. Pada model Gradient Boosting menggunakan LgbmRegressor nilai rmse pada pengujian test set adalah 52.30280965201199 dengan waktu prediksi 1.88 s.\n",
    "5. Pada model Gradient Boosting menggunakan CatBoosting nilai rmse pada pengujian test set adalah 44.30780376251568 dengan waktu prediksi 493 ms.\n",
    "6. Dari ke 5 model yang telah dilakukan pengujian pada testset, nilai rmse yang memiliki nilai dibawah 48 ada 2 model yaitu:\n",
    "    - Model RandomForest dengan nilai rmse: 46.320548534841706 dengan waktu prediksi 1.84 s.\n",
    "    - Model Gradient Boosting menggunakan CatBoosting dengan nilai rmse: 44.30780376251568 dengan waktu prediksi 493 ms.\n",
    "7. Hasil model terbaik yang dilakukan pada test set adalah model dengan gradient boosting menggunkaan Catboosting. Model ini juga adalah model dengan waktu tercepat untuk prediksi."
   ]
  },
  {
   "cell_type": "markdown",
   "metadata": {},
   "source": [
    "# Daftar Periksa Penilaian"
   ]
  },
  {
   "cell_type": "markdown",
   "metadata": {},
   "source": [
    "- [x]  Jupyter Notebook bisa dibuka.\n",
    "- [ ]  Tidak ada kesalahan dalam kode\n",
    "- [ ]  Sel-sel dengan kode telah disusun berdasarkan urutan eksekusi.\n",
    "- [ ]  Data telah diunduh dan disiapkan\n",
    "- [ ]  Data telah dianalisis\n",
    "- [ ]  Model sudah dilatih dan hiperparameter sudah dipilih\n",
    "- [ ]  Model sudah dievaluasi. Kesimpulan sudah ada.\n",
    "- [ ] *RMSE* untuk *test set* tidak lebih dari 48"
   ]
  },
  {
   "cell_type": "code",
   "execution_count": null,
   "metadata": {},
   "outputs": [],
   "source": []
  }
 ],
 "metadata": {
  "kernelspec": {
   "display_name": "Python 3 (ipykernel)",
   "language": "python",
   "name": "python3"
  },
  "language_info": {
   "codemirror_mode": {
    "name": "ipython",
    "version": 3
   },
   "file_extension": ".py",
   "mimetype": "text/x-python",
   "name": "python",
   "nbconvert_exporter": "python",
   "pygments_lexer": "ipython3",
   "version": "3.11.4"
  },
  "toc": {
   "base_numbering": 1,
   "nav_menu": {},
   "number_sections": true,
   "sideBar": true,
   "skip_h1_title": true,
   "title_cell": "Table of Contents",
   "title_sidebar": "Contents",
   "toc_cell": false,
   "toc_position": {},
   "toc_section_display": true,
   "toc_window_display": false
  }
 },
 "nbformat": 4,
 "nbformat_minor": 2
}
